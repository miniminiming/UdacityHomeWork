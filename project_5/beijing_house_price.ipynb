{
 "cells": [
  {
   "cell_type": "code",
   "execution_count": 1,
   "metadata": {},
   "outputs": [],
   "source": [
    "# 载入此项目所需要的库\n",
    "import numpy as np\n",
    "import pandas as pd"
   ]
  },
  {
   "cell_type": "code",
   "execution_count": 2,
   "metadata": {},
   "outputs": [],
   "source": [
    "#载入北京房价数据\n",
    "data = pd.read_csv('bj_housing.csv')\n",
    "# print data\n",
    "price_data = data['Value']\n",
    "features_all_data = data.drop(['Value'],axis = 1)\n",
    "# print features_all_data\n"
   ]
  },
  {
   "cell_type": "code",
   "execution_count": 3,
   "metadata": {},
   "outputs": [],
   "source": [
    "#清洗数据\n",
    "#先去掉年份小于1900的，这个数据分明是错误的\n"
   ]
  },
  {
   "cell_type": "code",
   "execution_count": 4,
   "metadata": {},
   "outputs": [
    {
     "name": "stderr",
     "output_type": "stream",
     "text": [
      "D:\\Anaconda2\\envs\\py2_env\\lib\\site-packages\\sklearn\\cross_validation.py:41: DeprecationWarning: This module was deprecated in version 0.18 in favor of the model_selection module into which all the refactored classes and functions are moved. Also note that the interface of the new CV iterators are different from that of this module. This module will be removed in 0.20.\n",
      "  \"This module will be removed in 0.20.\", DeprecationWarning)\n"
     ]
    }
   ],
   "source": [
    "#  分割数据\n",
    "from sklearn.cross_validation import train_test_split\n",
    "features_train, features_test, price_train, price_test = train_test_split(features_all_data, price_data, test_size=0.2, random_state=5)"
   ]
  },
  {
   "cell_type": "code",
   "execution_count": 5,
   "metadata": {},
   "outputs": [],
   "source": [
    "#用来预测分值的函数\n",
    "def performance_metric(y_true, y_predict):\n",
    "    \"\"\"计算并返回预测值相比于预测值的分数\"\"\"\n",
    "    from sklearn.metrics import r2_score\n",
    "    score = r2_score(y_true, y_predict)\n",
    "\n",
    "    return score"
   ]
  },
  {
   "cell_type": "code",
   "execution_count": 6,
   "metadata": {},
   "outputs": [],
   "source": [
    "#创建GridSearchCV来查找最好的决策树深度模型\n",
    "#提示: 导入 'KFold' 'DecisionTreeRegressor' 'make_scorer' 'GridSearchCV' \n",
    "from sklearn.cross_validation import KFold\n",
    "from sklearn.tree import DecisionTreeRegressor\n",
    "from sklearn.metrics import fbeta_score, make_scorer\n",
    "from sklearn.model_selection import GridSearchCV\n",
    "\n",
    "def fit_DecisionTreeRegressor_model(X, y):\n",
    "    \"\"\" 基于输入数据 [X,y]，利于网格搜索找到最优的决策树模型\"\"\"\n",
    "    \n",
    "    cross_validator =  KFold(len(y), shuffle=True)\n",
    "    \n",
    "    regressor = DecisionTreeRegressor()\n",
    "\n",
    "    params =  {'max_depth':[1,2,3,5,6,7,8,9,10]}\n",
    "\n",
    "    scoring_fnc = make_scorer(performance_metric)\n",
    "\n",
    "    grid = GridSearchCV(regressor, params, scoring_fnc, cv = cross_validator)\n",
    "\n",
    "    # 基于输入数据 [X,y]，进行网格搜索\n",
    "    grid = grid.fit(X, y)\n",
    "\n",
    "    # 返回网格搜索后的最优模型\n",
    "    return grid.best_estimator_"
   ]
  },
  {
   "cell_type": "code",
   "execution_count": 7,
   "metadata": {},
   "outputs": [
    {
     "name": "stdout",
     "output_type": "stream",
     "text": [
      "回归模型的最优参数： {'presort': False, 'splitter': 'best', 'min_impurity_decrease': 0.0, 'max_leaf_nodes': None, 'min_samples_leaf': 1, 'min_samples_split': 2, 'min_weight_fraction_leaf': 0.0, 'criterion': 'mse', 'random_state': None, 'min_impurity_split': None, 'max_features': None, 'max_depth': 5}\n"
     ]
    }
   ],
   "source": [
    "# 基于训练数据，获得最优模型\n",
    "#决策树回归模型秒找到\n",
    "optimal_reg = fit_DecisionTreeRegressor_model(features_train, price_train)\n",
    "print \"回归模型的最优参数：\",optimal_reg.get_params()"
   ]
  },
  {
   "cell_type": "code",
   "execution_count": 8,
   "metadata": {},
   "outputs": [],
   "source": [
    "#创建GridSearchCV来查找最好的SVR模型\n",
    "#提示: 导入 'KFold' 'DecisionTreeRegressor' 'make_scorer' 'GridSearchCV' \n",
    "from sklearn.cross_validation import KFold\n",
    "from sklearn.svm import SVR\n",
    "from sklearn.metrics import fbeta_score, make_scorer\n",
    "from sklearn.model_selection import GridSearchCV\n",
    "\n",
    "def fit_SVR_model(X, y):\n",
    "    \"\"\" 基于输入数据 [X,y]，利于网格搜索找到最优的决策树模型\"\"\"\n",
    "    \n",
    "    cross_validator =  KFold(len(y), shuffle=True)\n",
    "    \n",
    "    regressor = SVR(kernel='rbf',epsilon=0.2)\n",
    "\n",
    "    params =  {'C': [1e3, 5e3, 1e4, 5e4, 1e5],\n",
    "          'gamma': [0.0001, 0.0005, 0.001, 0.005, 0.01, 0.1],}\n",
    "\n",
    "    scoring_fnc = make_scorer(performance_metric)\n",
    "\n",
    "    grid = GridSearchCV(regressor, params, scoring_fnc, cv = cross_validator)\n",
    "\n",
    "    # 基于输入数据 [X,y]，进行网格搜索\n",
    "    grid = grid.fit(X, y)\n",
    "\n",
    "    # 返回网格搜索后的最优模型\n",
    "    return grid.best_estimator_"
   ]
  },
  {
   "cell_type": "code",
   "execution_count": 49,
   "metadata": {},
   "outputs": [
    {
     "name": "stdout",
     "output_type": "stream",
     "text": [
      "回归模型的最优参数： {'kernel': 'rbf', 'C': 5000.0, 'verbose': False, 'degree': 3, 'epsilon': 0.2, 'shrinking': True, 'max_iter': -1, 'tol': 0.001, 'cache_size': 200, 'coef0': 0.0, 'gamma': 0.001}\n"
     ]
    }
   ],
   "source": [
    "# 基于训练数据，获得最优模型\n",
    "#决策树回归模型秒找到\n",
    "#SVR将近花了一个小时才找到\n",
    "optimal_reg = fit_SVR_model(features_train, price_train)\n",
    "print \"回归模型的最优参数：\",optimal_reg.get_params()"
   ]
  },
  {
   "cell_type": "code",
   "execution_count": 9,
   "metadata": {},
   "outputs": [],
   "source": [
    "#创建GridSearchCV来查找最好的神经网络模型\n",
    "#提示: 导入 'KFold' 'DecisionTreeRegressor' 'make_scorer' 'GridSearchCV' \n",
    "from sklearn.cross_validation import KFold\n",
    "from sklearn.metrics import fbeta_score, make_scorer\n",
    "from sklearn.model_selection import GridSearchCV\n",
    "from sklearn.preprocessing import StandardScaler  \n",
    "\n",
    "from sklearn.neural_network import MLPRegressor\n",
    "\n",
    "scaler = StandardScaler()\n",
    "def fit_SVR_model(X, y):\n",
    "    \"\"\" 基于输入数据 [X,y]，利于网格搜索找到最优的神经网络模型\"\"\"\n",
    "    \n",
    "    #这个模型对于数据缩放比较敏感\n",
    "    scaler.fit(X)\n",
    "    #进行缩放\n",
    "    X = scaler.transform(X)\n",
    "    \n",
    "    cross_validator =  KFold(len(y), shuffle=True)\n",
    "    \n",
    "    regressor = MLPRegressor(solver='lbfgs', hidden_layer_sizes=(20, 20, 20), random_state=1)\n",
    "    \n",
    "    regressor.fit(X,y)\n",
    "    \n",
    "    return regressor\n",
    "\n",
    "#     params =  {'C': [1e3, 5e3, 1e4, 5e4, 1e5],\n",
    "#           'gamma': [0.0001, 0.0005, 0.001, 0.005, 0.01, 0.1],}\n",
    "\n",
    "#     scoring_fnc = make_scorer(performance_metric)\n",
    "\n",
    "#     grid = GridSearchCV(regressor, params, scoring_fnc, cv = cross_validator)\n",
    "\n",
    "#     # 基于输入数据 [X,y]，进行网格搜索\n",
    "#     grid = grid.fit(X, y)\n",
    "\n",
    "#     # 返回网格搜索后的最优模型\n",
    "#     return grid.best_estimator_"
   ]
  },
  {
   "cell_type": "code",
   "execution_count": 10,
   "metadata": {},
   "outputs": [
    {
     "name": "stdout",
     "output_type": "stream",
     "text": [
      "回归模型的最优参数： {'beta_1': 0.9, 'warm_start': False, 'beta_2': 0.999, 'shuffle': True, 'verbose': False, 'nesterovs_momentum': True, 'hidden_layer_sizes': (20, 20, 20), 'epsilon': 1e-08, 'activation': 'relu', 'max_iter': 200, 'batch_size': 'auto', 'power_t': 0.5, 'random_state': 1, 'learning_rate_init': 0.001, 'tol': 0.0001, 'validation_fraction': 0.1, 'alpha': 0.0001, 'solver': 'lbfgs', 'momentum': 0.9, 'learning_rate': 'constant', 'early_stopping': False}\n"
     ]
    }
   ],
   "source": [
    "\n",
    "optimal_reg = fit_SVR_model(features_train, price_train)\n",
    "print \"回归模型的最优参数：\",optimal_reg.get_params()"
   ]
  },
  {
   "cell_type": "code",
   "execution_count": 11,
   "metadata": {},
   "outputs": [
    {
     "name": "stdout",
     "output_type": "stream",
     "text": [
      "R平方分值 -0.30 on test data\n"
     ]
    }
   ],
   "source": [
    "scale_test_features = scaler.transform(features_test)\n",
    "\n",
    "#查看预测分值\n",
    "#下面两种方式算出来的值一样\n",
    "# r2 = optimal_reg.score(X_test,y_test)\n",
    "predict_res = optimal_reg.predict(scale_test_features)\n",
    "r2 = performance_metric(price_test,predict_res)\n",
    "\n",
    "print \"R平方分值 {:,.2f} on test data\".format(r2)"
   ]
  },
  {
   "cell_type": "code",
   "execution_count": null,
   "metadata": {},
   "outputs": [],
   "source": []
  }
 ],
 "metadata": {
  "kernelspec": {
   "display_name": "Python 2",
   "language": "python",
   "name": "python2"
  },
  "language_info": {
   "codemirror_mode": {
    "name": "ipython",
    "version": 2
   },
   "file_extension": ".py",
   "mimetype": "text/x-python",
   "name": "python",
   "nbconvert_exporter": "python",
   "pygments_lexer": "ipython2",
   "version": "2.7.15"
  }
 },
 "nbformat": 4,
 "nbformat_minor": 2
}
